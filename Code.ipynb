{
 "cells": [
  {
   "cell_type": "code",
   "execution_count": 2,
   "metadata": {},
   "outputs": [],
   "source": [
    "import pandas as pd"
   ]
  },
  {
   "cell_type": "code",
   "execution_count": 3,
   "metadata": {},
   "outputs": [],
   "source": [
    "import os\n",
    "for dirname, _, filenames in os.walk('./archive'):\n",
    "    for filename in filenames:\n",
    "        print(os.path.join(dirname, filename))"
   ]
  },
  {
   "cell_type": "code",
   "execution_count": 4,
   "metadata": {},
   "outputs": [],
   "source": [
    "dfs = [pd.read_csv(f, index_col=[0], parse_dates=[0])\n",
    "        for f in os.listdir(os.getcwd()) if f.endswith('csv')]\n",
    "\n",
    "t = pd.concat(dfs, axis=0, join='inner').sort_index()"
   ]
  },
  {
   "cell_type": "markdown",
   "metadata": {},
   "source": [
    "**Q1:** Estimate the average number of people that 'like' any given tweet by Elon Musk. "
   ]
  },
  {
   "cell_type": "code",
   "execution_count": 5,
   "metadata": {},
   "outputs": [
    {
     "data": {
      "text/plain": [
       "14705"
      ]
     },
     "execution_count": 5,
     "metadata": {},
     "output_type": "execute_result"
    }
   ],
   "source": [
    "round(t.nlikes.sum()/t.shape[0])"
   ]
  },
  {
   "cell_type": "markdown",
   "metadata": {},
   "source": [
    "**Q2:** from the above, estimate how many people view one of his tweets, on average. Assume that engagement rate, calculated by summing likes, replies, and retweets, and dividing by views, is roughly .05 for any given tweet.\n"
   ]
  },
  {
   "cell_type": "code",
   "execution_count": 6,
   "metadata": {},
   "outputs": [
    {
     "data": {
      "text/plain": [
       "338864"
      ]
     },
     "execution_count": 6,
     "metadata": {},
     "output_type": "execute_result"
    }
   ],
   "source": [
    "# Engagement in total\n",
    "v_total = sum(t.nlikes+t.nreplies+t.nretweets)/0.05\n",
    "# Estimation of engagement per tweet\n",
    "v_per = v_total/t.shape[0]\n",
    "round(v_per)"
   ]
  },
  {
   "cell_type": "markdown",
   "metadata": {},
   "source": [
    "**Q3**: Estimate the average amount of data (in bytes) stored for each Elon Musk tweet. "
   ]
  },
  {
   "cell_type": "markdown",
   "metadata": {},
   "source": [
    "Here consider data consist of two aspects: 1. tweet(text+attached media) 2. info of that tweet (e.g id, nlikes, link...)\n"
   ]
  },
  {
   "cell_type": "code",
   "execution_count": 7,
   "metadata": {},
   "outputs": [],
   "source": [
    "# Compute the first part: tweet content(text + attached media file)\n",
    "# check the format of the thumbnail field to specify the amount of video and images, respectively.\n",
    "sr=list(t.thumbnail[t.thumbnail.notna()==True])\n",
    "r_list = []\n",
    "for i in range(len(sr)):\n",
    "     key=sr[i].split('/')[3]\n",
    "     r_list.append(key)\n",
    "i=0\n",
    "video_num=len([i+1 for r in r_list if \"video_thumb\" in r])\n",
    "img_num=len(sr)-video_num\n"
   ]
  },
  {
   "cell_type": "markdown",
   "metadata": {},
   "source": [
    "Assume average media files in twitter is 45 second and 15mb(video), 16-bit color with 1024*512 ptx(images) and 28 UTF-8 characters content"
   ]
  },
  {
   "cell_type": "code",
   "execution_count": 8,
   "metadata": {},
   "outputs": [
    {
     "data": {
      "text/plain": [
       "159646"
      ]
     },
     "execution_count": 8,
     "metadata": {},
     "output_type": "execute_result"
    }
   ],
   "source": [
    "media_avg_size= (video_num*15*1048576+img_num*1024*512*16/8+len(t.tweet)*28)/len(t.id)\n",
    "\n",
    "# Compute the second part: info\n",
    "# Randomly take a sample to get the amount of info data\n",
    "import random, sys\n",
    "random.seed(2022)\n",
    "info_avg_size=sys.getsizeof(t.iloc[random.randint(0,len(t.id))])\n",
    "\n",
    "# Get the combined average size of an Elon tweet\n",
    "avg_data_stored = info_avg_size + media_avg_size\n",
    "round(avg_data_stored)"
   ]
  },
  {
   "cell_type": "markdown",
   "metadata": {},
   "source": [
    "**Q4:** Using the answers above, estimate the total data transfer involved in displaying any given Elon Musk tweet to Twitter users."
   ]
  },
  {
   "cell_type": "code",
   "execution_count": 12,
   "metadata": {},
   "outputs": [
    {
     "data": {
      "text/plain": [
       "6876602216"
      ]
     },
     "execution_count": 12,
     "metadata": {},
     "output_type": "execute_result"
    }
   ],
   "source": [
    "# Assume Twitter will display all the data stored to users\n",
    "display_data = avg_data_stored*len(t.id)\n",
    "round(display_data)"
   ]
  },
  {
   "cell_type": "markdown",
   "metadata": {},
   "source": [
    "**Q5:** Estimate how many Elon tweets are viewed, per-minute, by the site's userbase."
   ]
  },
  {
   "cell_type": "markdown",
   "metadata": {},
   "source": [
    "Assumption: userbase is the engaement of Musk' tweets calculated in Q2 with a time span around 11 years"
   ]
  },
  {
   "cell_type": "code",
   "execution_count": 10,
   "metadata": {},
   "outputs": [
    {
     "data": {
      "text/plain": [
       "2525"
      ]
     },
     "execution_count": 10,
     "metadata": {},
     "output_type": "execute_result"
    }
   ],
   "source": [
    "total_minutes = 11*365*24*60\n",
    "v_per_minute = v_total/total_minutes\n",
    "round(v_per_minute)"
   ]
  },
  {
   "cell_type": "markdown",
   "metadata": {},
   "source": [
    "**Q6:** Using the above, estimate how much data is accessed per-minute by Twitter in the process of displaying Elon Musk tweets.\n",
    "\n",
    "Assumption: that is, view per minute times average amount of data when displaying an Elon tweet"
   ]
  },
  {
   "cell_type": "code",
   "execution_count": 11,
   "metadata": {},
   "outputs": [
    {
     "data": {
      "text/plain": [
       "403043227"
      ]
     },
     "execution_count": 11,
     "metadata": {},
     "output_type": "execute_result"
    }
   ],
   "source": [
    "round(v_per_minute*display_data)"
   ]
  },
  {
   "cell_type": "markdown",
   "metadata": {},
   "source": [
    "**Q7:** choose a function that involves modifying a tweet (say, updating its 'likes' \n",
    "count, which you can assume is cached in a tweet's associated database row). \n",
    "How much data do you believe is touched by this operation on a monthly basis? \n",
    "Consider the amount of data affected, the frequency at which the operation is carried out, and so on.\n"
   ]
  },
  {
   "cell_type": "markdown",
   "metadata": {},
   "source": [
    "**Function:** Updating 'likes' count <br>\n",
    "The data column affected: nlikes <br>\n",
    "The frequency of this operation: monthly views(engagement) * chance to click the 'likes' bottom"
   ]
  },
  {
   "cell_type": "code",
   "execution_count": 294,
   "metadata": {},
   "outputs": [],
   "source": [
    "likes_basis = sys.getsizeof(t.nlikes) # size of nlikes in bytes\n",
    "v_monthly = (v_total*0.05)/(11*24)  # suppose the whole time span is 11 years and 0.05 rate of participation\n",
    "data_touch_mons = likes_basis*v_monthly\n",
    "data_touch_mons"
   ]
  }
 ],
 "metadata": {
  "interpreter": {
   "hash": "aee8b7b246df8f9039afb4144a1f6fd8d2ca17a180786b69acc140d282b71a49"
  },
  "kernelspec": {
   "display_name": "Python 3.9.7 64-bit",
   "language": "python",
   "name": "python3"
  },
  "language_info": {
   "codemirror_mode": {
    "name": "ipython",
    "version": 3
   },
   "file_extension": ".py",
   "mimetype": "text/x-python",
   "name": "python",
   "nbconvert_exporter": "python",
   "pygments_lexer": "ipython3",
   "version": "3.9.7"
  },
  "orig_nbformat": 4
 },
 "nbformat": 4,
 "nbformat_minor": 2
}
